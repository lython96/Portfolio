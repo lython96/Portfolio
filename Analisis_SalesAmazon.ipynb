{
 "cells": [
  {
   "cell_type": "markdown",
   "id": "49b2bef0-32cd-4e0e-94ad-979bd141bfa5",
   "metadata": {},
   "source": [
    "# Sales analysis:"
   ]
  },
  {
   "cell_type": "markdown",
   "id": "d9bd383d-333e-4772-a32e-f419cc30ccca",
   "metadata": {},
   "source": [
    "### Libraries: "
   ]
  },
  {
   "cell_type": "code",
   "execution_count": 1,
   "id": "bf1890ad-72f4-459f-9fd4-502e9aab0316",
   "metadata": {},
   "outputs": [],
   "source": [
    "import pandas as pd\n",
    "import numpy as np\n",
    "import matplotlib.pyplot as plt\n",
    "import seaborn as sns"
   ]
  },
  {
   "cell_type": "code",
   "execution_count": 35,
   "id": "cc90f0e5-ea4f-4793-9706-091048a43f6a",
   "metadata": {},
   "outputs": [],
   "source": [
    "df = pd.read_csv(r'Amazon Sale Report.csv')"
   ]
  },
  {
   "cell_type": "code",
   "execution_count": 3,
   "id": "6320e998-7b65-4fa6-b193-4ab73f7814ff",
   "metadata": {},
   "outputs": [],
   "source": [
    "df = df.drop('index',axis='columns')"
   ]
  },
  {
   "cell_type": "code",
   "execution_count": 4,
   "id": "48699cb9-ddde-407f-b501-93c753fed832",
   "metadata": {},
   "outputs": [],
   "source": [
    "df['Date'] = pd.to_datetime(df['Date'],format = '%m-%d-%y')\n",
    "df['day']=df['Date'].dt.day"
   ]
  },
  {
   "cell_type": "markdown",
   "id": "5a6364b8-f6cb-425e-a9d4-3e95bc2cb41c",
   "metadata": {},
   "source": [
    "### EDA:"
   ]
  },
  {
   "cell_type": "code",
   "execution_count": 5,
   "id": "6f7e7d90-129e-4c41-9282-8e15539b9611",
   "metadata": {},
   "outputs": [
    {
     "data": {
      "text/plain": [
       "(128975, 24)"
      ]
     },
     "execution_count": 5,
     "metadata": {},
     "output_type": "execute_result"
    }
   ],
   "source": [
    "df.shape"
   ]
  },
  {
   "cell_type": "code",
   "execution_count": 6,
   "id": "e308f8ef-fffe-4984-b134-3cce207ed3ba",
   "metadata": {},
   "outputs": [
    {
     "data": {
      "text/plain": [
       "3095400"
      ]
     },
     "execution_count": 6,
     "metadata": {},
     "output_type": "execute_result"
    }
   ],
   "source": [
    "df.size"
   ]
  },
  {
   "cell_type": "code",
   "execution_count": 7,
   "id": "f11ea61a-df98-4e1d-87e8-e56b4cf8ce56",
   "metadata": {},
   "outputs": [
    {
     "data": {
      "text/plain": [
       "Order ID                  0\n",
       "Date                      0\n",
       "Status                    0\n",
       "Fulfilment                0\n",
       "Sales Channel             0\n",
       "ship-service-level        0\n",
       "Style                     0\n",
       "SKU                       0\n",
       "Category                  0\n",
       "Size                      0\n",
       "ASIN                      0\n",
       "Courier Status         6872\n",
       "Qty                       0\n",
       "currency               7795\n",
       "Amount                 7795\n",
       "ship-city                33\n",
       "ship-state               33\n",
       "ship-postal-code         33\n",
       "ship-country             33\n",
       "promotion-ids         49153\n",
       "B2B                       0\n",
       "fulfilled-by          89698\n",
       "Unnamed: 22           49050\n",
       "day                       0\n",
       "dtype: int64"
      ]
     },
     "execution_count": 7,
     "metadata": {},
     "output_type": "execute_result"
    }
   ],
   "source": [
    "df.isnull().sum()"
   ]
  },
  {
   "cell_type": "code",
   "execution_count": 8,
   "id": "9aa724d6-ed13-4e14-9897-3ec0bf534141",
   "metadata": {},
   "outputs": [],
   "source": [
    "df = df.drop(columns={'promotion-ids','fulfilled-by','Unnamed: 22'})"
   ]
  },
  {
   "cell_type": "code",
   "execution_count": 9,
   "id": "d817f240-f397-4ae6-9fbc-2958ce526d3b",
   "metadata": {},
   "outputs": [],
   "source": [
    "df = df.dropna()"
   ]
  },
  {
   "cell_type": "code",
   "execution_count": 10,
   "id": "cc0be94d-2b1f-40e5-b11e-3863f16122c3",
   "metadata": {},
   "outputs": [
    {
     "data": {
      "text/plain": [
       "Order ID                      object\n",
       "Date                  datetime64[ns]\n",
       "Status                        object\n",
       "Fulfilment                    object\n",
       "Sales Channel                 object\n",
       "ship-service-level            object\n",
       "Style                         object\n",
       "SKU                           object\n",
       "Category                      object\n",
       "Size                          object\n",
       "ASIN                          object\n",
       "Courier Status                object\n",
       "Qty                            int64\n",
       "currency                      object\n",
       "Amount                       float64\n",
       "ship-city                     object\n",
       "ship-state                    object\n",
       "ship-postal-code             float64\n",
       "ship-country                  object\n",
       "B2B                             bool\n",
       "day                            int64\n",
       "dtype: object"
      ]
     },
     "execution_count": 10,
     "metadata": {},
     "output_type": "execute_result"
    }
   ],
   "source": [
    "df.dtypes"
   ]
  },
  {
   "cell_type": "markdown",
   "id": "c035d1ad-8c45-49c4-8aca-df57fc182177",
   "metadata": {},
   "source": [
    "#### Categorical variables:"
   ]
  },
  {
   "cell_type": "code",
   "execution_count": 11,
   "id": "21d31d72-d9d3-4a17-be59-88d67d0b0703",
   "metadata": {},
   "outputs": [],
   "source": [
    "categorical = df.select_dtypes(include = 'object')"
   ]
  },
  {
   "cell_type": "code",
   "execution_count": 12,
   "id": "ac757cc8-d9c3-4ee0-a148-d7a30e80aca1",
   "metadata": {},
   "outputs": [
    {
     "data": {
      "text/plain": [
       "Order ID              0\n",
       "Status                0\n",
       "Fulfilment            0\n",
       "Sales Channel         0\n",
       "ship-service-level    0\n",
       "Style                 0\n",
       "SKU                   0\n",
       "Category              0\n",
       "Size                  0\n",
       "ASIN                  0\n",
       "Courier Status        0\n",
       "currency              0\n",
       "ship-city             0\n",
       "ship-state            0\n",
       "ship-country          0\n",
       "dtype: int64"
      ]
     },
     "execution_count": 12,
     "metadata": {},
     "output_type": "execute_result"
    }
   ],
   "source": [
    "categorical.isnull().sum()"
   ]
  },
  {
   "cell_type": "code",
   "execution_count": 13,
   "id": "ade6ed5b-de6d-4f43-94f1-a0fc6e649617",
   "metadata": {},
   "outputs": [
    {
     "data": {
      "text/plain": [
       "(116016, 15)"
      ]
     },
     "execution_count": 13,
     "metadata": {},
     "output_type": "execute_result"
    }
   ],
   "source": [
    "categorical.shape"
   ]
  },
  {
   "cell_type": "code",
   "execution_count": 14,
   "id": "b503494d-4ae9-4858-8b0e-2d21dacb936a",
   "metadata": {},
   "outputs": [
    {
     "name": "stdout",
     "output_type": "stream",
     "text": [
      " - Order ID : 108271\n",
      " - Status : 12\n",
      " - Fulfilment : 2\n",
      " - Sales Channel  : 1\n",
      " - ship-service-level : 2\n",
      " - Style : 1371\n",
      " - SKU : 7132\n",
      " - Category : 9\n",
      " - Size : 11\n",
      " - ASIN : 7128\n",
      " - Courier Status : 2\n",
      " - currency : 1\n",
      " - ship-city : 8499\n",
      " - ship-state : 67\n",
      " - ship-country : 1\n"
     ]
    }
   ],
   "source": [
    "for column in categorical:\n",
    "    print (' - ' + column, ':',categorical[column].nunique())"
   ]
  },
  {
   "cell_type": "code",
   "execution_count": 15,
   "id": "b21a911c-b7af-4c9e-8320-903e6979c508",
   "metadata": {},
   "outputs": [
    {
     "name": "stdout",
     "output_type": "stream",
     "text": [
      " - Order ID : ['171-9198151-1101146' '404-0687676-7273146' '407-1069790-7240320' ...\n",
      " '407-9547469-3152358' '402-6184140-0545956' '408-7436540-8728312']\n",
      " - Status : ['Shipped - Delivered to Buyer' 'Shipped' 'Cancelled'\n",
      " 'Shipped - Returned to Seller' 'Shipped - Rejected by Buyer'\n",
      " 'Shipped - Lost in Transit' 'Shipped - Out for Delivery'\n",
      " 'Shipped - Returning to Seller' 'Shipped - Picked Up' 'Pending'\n",
      " 'Pending - Waiting for Pick Up' 'Shipped - Damaged']\n",
      " - Fulfilment : ['Merchant' 'Amazon']\n",
      " - Sales Channel  : ['Amazon.in']\n",
      " - ship-service-level : ['Standard' 'Expedited']\n",
      " - Style : ['JNE3781' 'JNE3371' 'JNE3671' ... 'J0286' 'J0053' 'SET045']\n",
      " - SKU : ['JNE3781-KR-XXXL' 'JNE3371-KR-XL' 'JNE3671-TU-XXXL' ... 'JNE3678-TU-XXL'\n",
      " 'J0053-KR-XS' 'SET045-KR-NP-M']\n",
      " - Category : ['kurta' 'Top' 'Set' 'Western Dress' 'Ethnic Dress' 'Bottom' 'Saree'\n",
      " 'Blouse' 'Dupatta']\n",
      " - Size : ['3XL' 'XL' 'L' 'S' 'XXL' 'XS' '6XL' 'M' '4XL' '5XL' 'Free']\n",
      " - ASIN : ['B09K3WFS32' 'B07WV4JV4D' 'B098714BZP' ... 'B0943HSR64' 'B08BK5VQ9B'\n",
      " 'B07N81TFNY']\n",
      " - Courier Status : ['Shipped' 'Unshipped']\n",
      " - currency : ['INR']\n",
      " - ship-city : ['BENGALURU' 'NAVI MUMBAI' 'CHENNAI' ... 'GULABPURA, Distt BHILWARA'\n",
      " 'Prayagraj (ALLAHABAD)' 'Halol']\n",
      " - ship-state : ['KARNATAKA' 'MAHARASHTRA' 'TAMIL NADU' 'UTTAR PRADESH' 'CHANDIGARH'\n",
      " 'TELANGANA' 'ANDHRA PRADESH' 'RAJASTHAN' 'DELHI' 'HARYANA' 'ASSAM'\n",
      " 'JHARKHAND' 'CHHATTISGARH' 'ODISHA' 'KERALA' 'MADHYA PRADESH'\n",
      " 'WEST BENGAL' 'NAGALAND' 'Gujarat' 'UTTARAKHAND' 'BIHAR'\n",
      " 'JAMMU & KASHMIR' 'PUNJAB' 'HIMACHAL PRADESH' 'ARUNACHAL PRADESH'\n",
      " 'MANIPUR' 'Goa' 'MEGHALAYA' 'PUDUCHERRY' 'GOA' 'TRIPURA' 'LADAKH'\n",
      " 'DADRA AND NAGAR' 'SIKKIM' 'Delhi' 'ANDAMAN & NICOBAR ' 'Punjab'\n",
      " 'Rajshthan' 'Manipur' 'rajasthan' 'Odisha' 'NL' 'Bihar' 'MIZORAM'\n",
      " 'punjab' 'New Delhi' 'Rajasthan' 'Punjab/Mohali/Zirakpur' 'Puducherry'\n",
      " 'delhi' 'RJ' 'Chandigarh' 'orissa' 'LAKSHADWEEP' 'goa' 'PB'\n",
      " 'Arunachal Pradesh' 'AR' 'Pondicherry' 'Sikkim' 'Arunachal pradesh'\n",
      " 'Nagaland' 'bihar' 'Mizoram' 'rajsthan' 'Orissa' 'Rajsthan']\n",
      " - ship-country : ['IN']\n"
     ]
    }
   ],
   "source": [
    "for column in categorical:\n",
    "    print (' - ' + column, ':',categorical[column].unique())"
   ]
  },
  {
   "cell_type": "code",
   "execution_count": 16,
   "id": "b982b488-a7e6-47d9-8a96-d6c645ed26ae",
   "metadata": {},
   "outputs": [
    {
     "data": {
      "text/html": [
       "<div>\n",
       "<style scoped>\n",
       "    .dataframe tbody tr th:only-of-type {\n",
       "        vertical-align: middle;\n",
       "    }\n",
       "\n",
       "    .dataframe tbody tr th {\n",
       "        vertical-align: top;\n",
       "    }\n",
       "\n",
       "    .dataframe thead th {\n",
       "        text-align: right;\n",
       "    }\n",
       "</style>\n",
       "<table border=\"1\" class=\"dataframe\">\n",
       "  <thead>\n",
       "    <tr style=\"text-align: right;\">\n",
       "      <th></th>\n",
       "      <th>Order ID</th>\n",
       "      <th>Status</th>\n",
       "      <th>Fulfilment</th>\n",
       "      <th>Sales Channel</th>\n",
       "      <th>ship-service-level</th>\n",
       "      <th>Style</th>\n",
       "      <th>SKU</th>\n",
       "      <th>Category</th>\n",
       "      <th>Size</th>\n",
       "      <th>ASIN</th>\n",
       "      <th>Courier Status</th>\n",
       "      <th>currency</th>\n",
       "      <th>ship-city</th>\n",
       "      <th>ship-state</th>\n",
       "      <th>ship-country</th>\n",
       "    </tr>\n",
       "  </thead>\n",
       "  <tbody>\n",
       "    <tr>\n",
       "      <th>1</th>\n",
       "      <td>171-9198151-1101146</td>\n",
       "      <td>Shipped - Delivered to Buyer</td>\n",
       "      <td>Merchant</td>\n",
       "      <td>Amazon.in</td>\n",
       "      <td>Standard</td>\n",
       "      <td>JNE3781</td>\n",
       "      <td>JNE3781-KR-XXXL</td>\n",
       "      <td>kurta</td>\n",
       "      <td>3XL</td>\n",
       "      <td>B09K3WFS32</td>\n",
       "      <td>Shipped</td>\n",
       "      <td>INR</td>\n",
       "      <td>BENGALURU</td>\n",
       "      <td>KARNATAKA</td>\n",
       "      <td>IN</td>\n",
       "    </tr>\n",
       "    <tr>\n",
       "      <th>2</th>\n",
       "      <td>404-0687676-7273146</td>\n",
       "      <td>Shipped</td>\n",
       "      <td>Amazon</td>\n",
       "      <td>Amazon.in</td>\n",
       "      <td>Expedited</td>\n",
       "      <td>JNE3371</td>\n",
       "      <td>JNE3371-KR-XL</td>\n",
       "      <td>kurta</td>\n",
       "      <td>XL</td>\n",
       "      <td>B07WV4JV4D</td>\n",
       "      <td>Shipped</td>\n",
       "      <td>INR</td>\n",
       "      <td>NAVI MUMBAI</td>\n",
       "      <td>MAHARASHTRA</td>\n",
       "      <td>IN</td>\n",
       "    </tr>\n",
       "    <tr>\n",
       "      <th>4</th>\n",
       "      <td>407-1069790-7240320</td>\n",
       "      <td>Shipped</td>\n",
       "      <td>Amazon</td>\n",
       "      <td>Amazon.in</td>\n",
       "      <td>Expedited</td>\n",
       "      <td>JNE3671</td>\n",
       "      <td>JNE3671-TU-XXXL</td>\n",
       "      <td>Top</td>\n",
       "      <td>3XL</td>\n",
       "      <td>B098714BZP</td>\n",
       "      <td>Shipped</td>\n",
       "      <td>INR</td>\n",
       "      <td>CHENNAI</td>\n",
       "      <td>TAMIL NADU</td>\n",
       "      <td>IN</td>\n",
       "    </tr>\n",
       "    <tr>\n",
       "      <th>5</th>\n",
       "      <td>404-1490984-4578765</td>\n",
       "      <td>Shipped</td>\n",
       "      <td>Amazon</td>\n",
       "      <td>Amazon.in</td>\n",
       "      <td>Expedited</td>\n",
       "      <td>SET264</td>\n",
       "      <td>SET264-KR-NP-XL</td>\n",
       "      <td>Set</td>\n",
       "      <td>XL</td>\n",
       "      <td>B08YN7XDSG</td>\n",
       "      <td>Shipped</td>\n",
       "      <td>INR</td>\n",
       "      <td>GHAZIABAD</td>\n",
       "      <td>UTTAR PRADESH</td>\n",
       "      <td>IN</td>\n",
       "    </tr>\n",
       "    <tr>\n",
       "      <th>6</th>\n",
       "      <td>408-5748499-6859555</td>\n",
       "      <td>Shipped</td>\n",
       "      <td>Amazon</td>\n",
       "      <td>Amazon.in</td>\n",
       "      <td>Expedited</td>\n",
       "      <td>J0095</td>\n",
       "      <td>J0095-SET-L</td>\n",
       "      <td>Set</td>\n",
       "      <td>L</td>\n",
       "      <td>B08CMHNWBN</td>\n",
       "      <td>Shipped</td>\n",
       "      <td>INR</td>\n",
       "      <td>CHANDIGARH</td>\n",
       "      <td>CHANDIGARH</td>\n",
       "      <td>IN</td>\n",
       "    </tr>\n",
       "  </tbody>\n",
       "</table>\n",
       "</div>"
      ],
      "text/plain": [
       "              Order ID                        Status Fulfilment  \\\n",
       "1  171-9198151-1101146  Shipped - Delivered to Buyer   Merchant   \n",
       "2  404-0687676-7273146                       Shipped     Amazon   \n",
       "4  407-1069790-7240320                       Shipped     Amazon   \n",
       "5  404-1490984-4578765                       Shipped     Amazon   \n",
       "6  408-5748499-6859555                       Shipped     Amazon   \n",
       "\n",
       "  Sales Channel  ship-service-level    Style              SKU Category Size  \\\n",
       "1      Amazon.in           Standard  JNE3781  JNE3781-KR-XXXL    kurta  3XL   \n",
       "2      Amazon.in          Expedited  JNE3371    JNE3371-KR-XL    kurta   XL   \n",
       "4      Amazon.in          Expedited  JNE3671  JNE3671-TU-XXXL      Top  3XL   \n",
       "5      Amazon.in          Expedited   SET264  SET264-KR-NP-XL      Set   XL   \n",
       "6      Amazon.in          Expedited    J0095      J0095-SET-L      Set    L   \n",
       "\n",
       "         ASIN Courier Status currency    ship-city     ship-state ship-country  \n",
       "1  B09K3WFS32        Shipped      INR    BENGALURU      KARNATAKA           IN  \n",
       "2  B07WV4JV4D        Shipped      INR  NAVI MUMBAI    MAHARASHTRA           IN  \n",
       "4  B098714BZP        Shipped      INR      CHENNAI     TAMIL NADU           IN  \n",
       "5  B08YN7XDSG        Shipped      INR    GHAZIABAD  UTTAR PRADESH           IN  \n",
       "6  B08CMHNWBN        Shipped      INR   CHANDIGARH     CHANDIGARH           IN  "
      ]
     },
     "execution_count": 16,
     "metadata": {},
     "output_type": "execute_result"
    }
   ],
   "source": [
    "categorical.head()"
   ]
  },
  {
   "cell_type": "code",
   "execution_count": 17,
   "id": "1529f9bd-9253-441d-b8f8-bca0d22baf87",
   "metadata": {},
   "outputs": [],
   "source": [
    "status = df['Status'].value_counts()\n",
    "status = status.reset_index()"
   ]
  },
  {
   "cell_type": "code",
   "execution_count": 18,
   "id": "d6c3a719-6ef8-4785-a42f-6e601040a032",
   "metadata": {},
   "outputs": [],
   "source": [
    "status = status.rename({'index':'Status','Status':'count'},axis = 'columns')"
   ]
  },
  {
   "cell_type": "code",
   "execution_count": 19,
   "id": "514ccf6a-ed23-4808-a6a3-bb288ed9b198",
   "metadata": {},
   "outputs": [],
   "source": [
    "total = status['count'].sum()"
   ]
  },
  {
   "cell_type": "code",
   "execution_count": 20,
   "id": "26adbf20-c143-43fe-aa4e-a0ccdc67ba92",
   "metadata": {},
   "outputs": [],
   "source": [
    "status['Frec.rel'] = status['count'].div(total).round(2)"
   ]
  },
  {
   "cell_type": "code",
   "execution_count": 21,
   "id": "6585ab4f-0230-4c15-b405-78ab3c66658e",
   "metadata": {},
   "outputs": [
    {
     "data": {
      "text/plain": [
       "<function matplotlib.pyplot.show(close=None, block=None)>"
      ]
     },
     "execution_count": 21,
     "metadata": {},
     "output_type": "execute_result"
    },
    {
     "data": {
      "image/png": "[encoded data removed]",
      "text/plain": [
       "<Figure size 1800x720 with 1 Axes>"
      ]
     },
     "metadata": {
      "needs_background": "light"
     },
     "output_type": "display_data"
    }
   ],
   "source": [
    "plt.figure(figsize = (25,10))\n",
    "sns.barplot(x='Status',y = 'count',data = status,palette = 'Blues_d')\n",
    "plt.title(\"Count of Status type\")\n",
    "plt.xlabel(\"Status\")\n",
    "plt.ylabel(\"Count of status\")\n",
    "plt.show"
   ]
  },
  {
   "cell_type": "markdown",
   "id": "53f27460-ea55-4069-a7f2-900ac562615b",
   "metadata": {},
   "source": [
    "#### Numerical variables:"
   ]
  },
  {
   "cell_type": "code",
   "execution_count": 22,
   "id": "13b81288-d312-4e97-83cf-d55d4b3d3e3c",
   "metadata": {},
   "outputs": [],
   "source": [
    "numeric = df.select_dtypes(include = ['float','int'])"
   ]
  },
  {
   "cell_type": "code",
   "execution_count": 23,
   "id": "d1650bd9-5f91-4a07-966b-6e8e9c80a5b7",
   "metadata": {},
   "outputs": [],
   "source": [
    "numeric = numeric.drop(['day','ship-postal-code'],axis = 'columns')"
   ]
  },
  {
   "cell_type": "code",
   "execution_count": 24,
   "id": "87501c7e-9801-429c-b0ff-e1b9d660e659",
   "metadata": {},
   "outputs": [
    {
     "data": {
      "text/html": [
       "<div>\n",
       "<style scoped>\n",
       "    .dataframe tbody tr th:only-of-type {\n",
       "        vertical-align: middle;\n",
       "    }\n",
       "\n",
       "    .dataframe tbody tr th {\n",
       "        vertical-align: top;\n",
       "    }\n",
       "\n",
       "    .dataframe thead th {\n",
       "        text-align: right;\n",
       "    }\n",
       "</style>\n",
       "<table border=\"1\" class=\"dataframe\">\n",
       "  <thead>\n",
       "    <tr style=\"text-align: right;\">\n",
       "      <th></th>\n",
       "      <th>count</th>\n",
       "      <th>mean</th>\n",
       "      <th>std</th>\n",
       "      <th>min</th>\n",
       "      <th>25%</th>\n",
       "      <th>50%</th>\n",
       "      <th>75%</th>\n",
       "      <th>max</th>\n",
       "    </tr>\n",
       "  </thead>\n",
       "  <tbody>\n",
       "    <tr>\n",
       "      <th>Qty</th>\n",
       "      <td>116016.0</td>\n",
       "      <td>1.003775</td>\n",
       "      <td>0.072651</td>\n",
       "      <td>1.0</td>\n",
       "      <td>1.0</td>\n",
       "      <td>1.0</td>\n",
       "      <td>1.0</td>\n",
       "      <td>8.0</td>\n",
       "    </tr>\n",
       "    <tr>\n",
       "      <th>Amount</th>\n",
       "      <td>116016.0</td>\n",
       "      <td>649.780849</td>\n",
       "      <td>282.648892</td>\n",
       "      <td>0.0</td>\n",
       "      <td>449.0</td>\n",
       "      <td>606.0</td>\n",
       "      <td>788.0</td>\n",
       "      <td>5584.0</td>\n",
       "    </tr>\n",
       "  </tbody>\n",
       "</table>\n",
       "</div>"
      ],
      "text/plain": [
       "           count        mean         std  min    25%    50%    75%     max\n",
       "Qty     116016.0    1.003775    0.072651  1.0    1.0    1.0    1.0     8.0\n",
       "Amount  116016.0  649.780849  282.648892  0.0  449.0  606.0  788.0  5584.0"
      ]
     },
     "execution_count": 24,
     "metadata": {},
     "output_type": "execute_result"
    }
   ],
   "source": [
    "numeric.describe().T"
   ]
  },
  {
   "cell_type": "code",
   "execution_count": 25,
   "id": "c2782057-812a-4192-87df-d2ac7ade1f4d",
   "metadata": {},
   "outputs": [
    {
     "data": {
      "text/plain": [
       "<AxesSubplot:xlabel='Qty', ylabel='Amount'>"
      ]
     },
     "execution_count": 25,
     "metadata": {},
     "output_type": "execute_result"
    },
    {
     "data": {
      "image/png": "[encoded data removed]",
      "text/plain": [
       "<Figure size 576x576 with 1 Axes>"
      ]
     },
     "metadata": {
      "needs_background": "light"
     },
     "output_type": "display_data"
    }
   ],
   "source": [
    "plt.figure(figsize = (8,8))\n",
    "sns.scatterplot(x= 'Qty',\n",
    "                y = 'Amount',\n",
    "                data = numeric)"
   ]
  },
  {
   "cell_type": "code",
   "execution_count": 26,
   "id": "87bb5f90-1e72-4327-9862-06c62b9e8cf5",
   "metadata": {},
   "outputs": [
    {
     "data": {
      "text/plain": [
       "<AxesSubplot:xlabel='Amount'>"
      ]
     },
     "execution_count": 26,
     "metadata": {},
     "output_type": "execute_result"
    },
    {
     "data": {
      "image/png": "[encoded data removed]",
      "text/plain": [
       "<Figure size 576x432 with 1 Axes>"
      ]
     },
     "metadata": {
      "needs_background": "light"
     },
     "output_type": "display_data"
    }
   ],
   "source": [
    "plt.figure(figsize = (8,6))\n",
    "sns.boxplot(x = 'Amount',\n",
    "           data = numeric)"
   ]
  },
  {
   "cell_type": "markdown",
   "id": "064b04ee-bb6f-4418-b2d6-92a49aadb103",
   "metadata": {},
   "source": [
    "### Linear regression analysis"
   ]
  },
  {
   "cell_type": "code",
   "execution_count": 27,
   "id": "288e7bf2-7a80-4f6c-8ee0-208a2d7e0239",
   "metadata": {},
   "outputs": [
    {
     "name": "stderr",
     "output_type": "stream",
     "text": [
      "C:\\Users\\luisf\\anaconda3\\lib\\site-packages\\statsmodels\\tsa\\base\\tsa_model.py:7: FutureWarning: pandas.Int64Index is deprecated and will be removed from pandas in a future version. Use pandas.Index with the appropriate dtype instead.\n",
      "  from pandas import (to_datetime, Int64Index, DatetimeIndex, Period,\n",
      "C:\\Users\\luisf\\anaconda3\\lib\\site-packages\\statsmodels\\tsa\\base\\tsa_model.py:7: FutureWarning: pandas.Float64Index is deprecated and will be removed from pandas in a future version. Use pandas.Index with the appropriate dtype instead.\n",
      "  from pandas import (to_datetime, Int64Index, DatetimeIndex, Period,\n"
     ]
    }
   ],
   "source": [
    "from scipy.stats import pearsonr\n",
    "from sklearn.linear_model import LinearRegression\n",
    "from sklearn.model_selection import train_test_split\n",
    "from sklearn.metrics import r2_score\n",
    "from sklearn.metrics import mean_squared_error\n",
    "import statsmodels.api as sm\n",
    "import statsmodels.formula.api as smf"
   ]
  },
  {
   "cell_type": "code",
   "execution_count": 28,
   "id": "587a29c0-50e6-4421-9c10-f0b6282e2cf2",
   "metadata": {},
   "outputs": [],
   "source": [
    "from matplotlib import style\n",
    "plt.rcParams['image.cmap'] = \"bwr\"\n",
    "#plt.rcParams['figure.dpi'] = \"100\"\n",
    "plt.rcParams['savefig.bbox'] = \"tight\"\n",
    "style.use('ggplot') or plt.style.use('ggplot')\n",
    "import warnings\n",
    "warnings.filterwarnings('ignore')"
   ]
  },
  {
   "cell_type": "code",
   "execution_count": 29,
   "id": "001c200c-d168-4d60-9020-384ea6b2eeb3",
   "metadata": {},
   "outputs": [
    {
     "data": {
      "text/plain": [
       "LinearRegression()"
      ]
     },
     "execution_count": 29,
     "metadata": {},
     "output_type": "execute_result"
    }
   ],
   "source": [
    "# ==============================================================================\n",
    "X = numeric[['Qty']]\n",
    "y = numeric['Amount']\n",
    "\n",
    "X_train, X_test, y_train, y_test = train_test_split(\n",
    "                                        X.values.reshape(-1,1),\n",
    "                                        y.values.reshape(-1,1),\n",
    "                                        train_size   = 0.8,\n",
    "                                        random_state = 1234,\n",
    "                                        shuffle      = True\n",
    "                                    )\n",
    "\n",
    "\n",
    "# ==============================================================================\n",
    "modelo = LinearRegression()\n",
    "modelo.fit(X = X_train.reshape(-1, 1), y = y_train)"
   ]
  },
  {
   "cell_type": "code",
   "execution_count": 30,
   "id": "0a88c83a-772c-4bc6-8a6c-d592c2f9294e",
   "metadata": {},
   "outputs": [
    {
     "name": "stdout",
     "output_type": "stream",
     "text": [
      "Intercept: [86.65917519]\n",
      "Coeficiente: [('Qty', 560.5938423040179)]\n",
      "Coeficiente de determinación R^2: 0.02124673488517914\n"
     ]
    }
   ],
   "source": [
    "print(\"Intercept:\", modelo.intercept_)\n",
    "print(\"Coeficiente:\", list(zip(X.columns, modelo.coef_.flatten(), )))\n",
    "print(\"Coeficiente de determinación R^2:\", modelo.score(X, y))"
   ]
  },
  {
   "cell_type": "code",
   "execution_count": 31,
   "id": "d7a6df41-f4f6-4cdd-8ff7-9c0dee9008df",
   "metadata": {},
   "outputs": [
    {
     "name": "stdout",
     "output_type": "stream",
     "text": [
      "[[647.2530175]\n",
      " [647.2530175]\n",
      " [647.2530175]]\n",
      "\n",
      "El error (rmse) de test es: 283.05346265684324\n"
     ]
    }
   ],
   "source": [
    "# ==============================================================================\n",
    "predicciones = modelo.predict(X = X_test)\n",
    "print(predicciones[0:3,])\n",
    "\n",
    "rmse = mean_squared_error(\n",
    "        y_true  = y_test,\n",
    "        y_pred  = predicciones,\n",
    "        squared = False\n",
    "       )\n",
    "print(\"\")\n",
    "print(f\"El error (rmse) de test es: {rmse}\")"
   ]
  },
  {
   "cell_type": "code",
   "execution_count": 32,
   "id": "18a31f6b-6c0e-4a8c-b641-f1eaf0a95647",
   "metadata": {},
   "outputs": [
    {
     "name": "stdout",
     "output_type": "stream",
     "text": [
      "Coeficiente de determinación R^2 en test es: 0.016448061216234766\n"
     ]
    }
   ],
   "source": [
    "print(\"Coeficiente de determinación R^2 en test es:\", modelo.score(X_test, y_test))"
   ]
  },
  {
   "cell_type": "code",
   "execution_count": 33,
   "id": "da1b3afd-4b62-4e10-955b-1d2bf5398fb6",
   "metadata": {},
   "outputs": [
    {
     "name": "stdout",
     "output_type": "stream",
     "text": [
      "                            OLS Regression Results                            \n",
      "==============================================================================\n",
      "Dep. Variable:                      y   R-squared:                       0.022\n",
      "Model:                            OLS   Adj. R-squared:                  0.022\n",
      "Method:                 Least Squares   F-statistic:                     2133.\n",
      "Date:                Fri, 19 May 2023   Prob (F-statistic):               0.00\n",
      "Time:                        22:43:29   Log-Likelihood:            -6.5426e+05\n",
      "No. Observations:               92812   AIC:                         1.309e+06\n",
      "Df Residuals:                   92810   BIC:                         1.309e+06\n",
      "Df Model:                           1                                         \n",
      "Covariance Type:            nonrobust                                         \n",
      "==============================================================================\n",
      "                 coef    std err          t      P>|t|      [0.025      0.975]\n",
      "------------------------------------------------------------------------------\n",
      "const         86.6592     12.219      7.092      0.000      62.709     110.609\n",
      "x1           560.5938     12.137     46.189      0.000     536.805     584.382\n",
      "==============================================================================\n",
      "Omnibus:                     7780.383   Durbin-Watson:                   2.007\n",
      "Prob(Omnibus):                  0.000   Jarque-Bera (JB):            10665.092\n",
      "Skew:                           0.704   Prob(JB):                         0.00\n",
      "Kurtosis:                       3.881   Cond. No.                         26.7\n",
      "==============================================================================\n",
      "\n",
      "Notes:\n",
      "[1] Standard Errors assume that the covariance matrix of the errors is correctly specified.\n"
     ]
    }
   ],
   "source": [
    "X_train = sm.add_constant(X_train, prepend=True)\n",
    "modelo = sm.OLS(endog=y_train, exog=X_train,)\n",
    "modelo = modelo.fit()\n",
    "print(modelo.summary())"
   ]
  },
  {
   "cell_type": "code",
   "execution_count": 34,
   "id": "fb3877ad-8f79-4c87-844b-9a1099c22b0b",
   "metadata": {},
   "outputs": [
    {
     "data": {
      "image/png": "[encoded data removed]",
      "text/plain": [
       "<Figure size 432x276.48 with 1 Axes>"
      ]
     },
     "metadata": {},
     "output_type": "display_data"
    }
   ],
   "source": [
    "predicciones = modelo.get_prediction(exog = X_train).summary_frame(alpha=0.05)\n",
    "predicciones['x'] = X_train[:, 1]\n",
    "predicciones['y'] = y_train\n",
    "predicciones = predicciones.sort_values('x')\n",
    "\n",
    "# ==============================================================================\n",
    "fig, ax = plt.subplots(figsize=(6, 3.84))\n",
    "\n",
    "ax.scatter(predicciones['x'], predicciones['y'], marker='o', color = \"gray\")\n",
    "ax.plot(predicciones['x'], predicciones[\"mean\"], linestyle='-', label=\"OLS\")\n",
    "ax.plot(predicciones['x'], predicciones[\"mean_ci_lower\"], linestyle='--', color='red', label=\"95% CI\")\n",
    "ax.plot(predicciones['x'], predicciones[\"mean_ci_upper\"], linestyle='--', color='red')\n",
    "ax.fill_between(predicciones['x'], predicciones[\"mean_ci_lower\"], predicciones[\"mean_ci_upper\"], alpha=0.1)\n",
    "ax.legend();"
   ]
  },
  {
   "cell_type": "code",
   "execution_count": null,
   "id": "962d32b9-7b62-4c70-a54d-0c13d2b59533",
   "metadata": {},
   "outputs": [],
   "source": []
  }
 ],
 "metadata": {
  "kernelspec": {
   "display_name": "Python 3 (ipykernel)",
   "language": "python",
   "name": "python3"
  },
  "language_info": {
   "codemirror_mode": {
    "name": "ipython",
    "version": 3
   },
   "file_extension": ".py",
   "mimetype": "text/x-python",
   "name": "python",
   "nbconvert_exporter": "python",
   "pygments_lexer": "ipython3",
   "version": "3.9.7"
  }
 },
 "nbformat": 4,
 "nbformat_minor": 5
}
