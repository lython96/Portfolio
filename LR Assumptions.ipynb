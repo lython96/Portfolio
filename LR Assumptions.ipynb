{
 "cells": [
  {
   "cell_type": "markdown",
   "id": "a8c9727a-3b1c-4454-9961-0b024402a427",
   "metadata": {},
   "source": [
    "# Linear regression assumptions in Python"
   ]
  },
  {
   "cell_type": "code",
   "execution_count": 1,
   "id": "e313191f-0712-4834-b92c-d14fbef687f6",
   "metadata": {},
   "outputs": [
    {
     "name": "stderr",
     "output_type": "stream",
     "text": [
      "C:\\Users\\luisf\\anaconda3\\lib\\site-packages\\statsmodels\\tsa\\base\\tsa_model.py:7: FutureWarning: pandas.Int64Index is deprecated and will be removed from pandas in a future version. Use pandas.Index with the appropriate dtype instead.\n",
      "  from pandas import (to_datetime, Int64Index, DatetimeIndex, Period,\n",
      "C:\\Users\\luisf\\anaconda3\\lib\\site-packages\\statsmodels\\tsa\\base\\tsa_model.py:7: FutureWarning: pandas.Float64Index is deprecated and will be removed from pandas in a future version. Use pandas.Index with the appropriate dtype instead.\n",
      "  from pandas import (to_datetime, Int64Index, DatetimeIndex, Period,\n"
     ]
    }
   ],
   "source": [
    "import numpy as np\n",
    "import pandas as pd\n",
    "import matplotlib.pyplot as plt\n",
    "from sklearn import datasets\n",
    "import statsmodels.api as sm\n",
    "from statsmodels.stats.outliers_influence import variance_inflation_factor\n",
    "from statsmodels.stats.stattools import durbin_watson\n",
    "import scipy.stats as st"
   ]
  },
  {
   "cell_type": "markdown",
   "id": "b0679d1f-d953-4946-a5ad-b1babc5eb8f1",
   "metadata": {},
   "source": [
    "- All assumptions of linear regression\n",
    "- What are the consequence if each is violated\n",
    "- How to test each assumption in python\n",
    "- How to fix each violation"
   ]
  },
  {
   "cell_type": "markdown",
   "id": "e6cfae18-c97e-455d-8d98-56a9c2c262b8",
   "metadata": {},
   "source": [
    "### Assumptions of Linear regression"
   ]
  },
  {
   "cell_type": "markdown",
   "id": "d9a8e5cb-a65f-49a3-a87d-78ab99620116",
   "metadata": {},
   "source": [
    "- Linearity\n",
    "- Autocorrelation\n",
    "- Multicollinearity\n",
    "- Heteroskedasticity\n",
    "- Normality\n",
    "These assumptions will be tested against diabetes dataset from the standard sklearn dataset.\n",
    "Import data and build linear regression model"
   ]
  },
  {
   "cell_type": "code",
   "execution_count": 2,
   "id": "0af79a53-222b-4a51-9af6-bea5915e419e",
   "metadata": {},
   "outputs": [
    {
     "name": "stdout",
     "output_type": "stream",
     "text": [
      "                            OLS Regression Results                            \n",
      "==============================================================================\n",
      "Dep. Variable:                      y   R-squared:                       0.518\n",
      "Model:                            OLS   Adj. R-squared:                  0.507\n",
      "Method:                 Least Squares   F-statistic:                     46.27\n",
      "Date:                Thu, 09 Mar 2023   Prob (F-statistic):           3.83e-62\n",
      "Time:                        19:55:46   Log-Likelihood:                -2386.0\n",
      "No. Observations:                 442   AIC:                             4794.\n",
      "Df Residuals:                     431   BIC:                             4839.\n",
      "Df Model:                          10                                         \n",
      "Covariance Type:            nonrobust                                         \n",
      "==============================================================================\n",
      "                 coef    std err          t      P>|t|      [0.025      0.975]\n",
      "------------------------------------------------------------------------------\n",
      "const        152.1335      2.576     59.061      0.000     147.071     157.196\n",
      "x1           -10.0122     59.749     -0.168      0.867    -127.448     107.424\n",
      "x2          -239.8191     61.222     -3.917      0.000    -360.151    -119.488\n",
      "x3           519.8398     66.534      7.813      0.000     389.069     650.610\n",
      "x4           324.3904     65.422      4.958      0.000     195.805     452.976\n",
      "x5          -792.1842    416.684     -1.901      0.058   -1611.169      26.801\n",
      "x6           476.7458    339.035      1.406      0.160    -189.621    1143.113\n",
      "x7           101.0446    212.533      0.475      0.635    -316.685     518.774\n",
      "x8           177.0642    161.476      1.097      0.273    -140.313     494.442\n",
      "x9           751.2793    171.902      4.370      0.000     413.409    1089.150\n",
      "x10           67.6254     65.984      1.025      0.306     -62.065     197.316\n",
      "==============================================================================\n",
      "Omnibus:                        1.506   Durbin-Watson:                   2.029\n",
      "Prob(Omnibus):                  0.471   Jarque-Bera (JB):                1.404\n",
      "Skew:                           0.017   Prob(JB):                        0.496\n",
      "Kurtosis:                       2.726   Cond. No.                         227.\n",
      "==============================================================================\n",
      "\n",
      "Notes:\n",
      "[1] Standard Errors assume that the covariance matrix of the errors is correctly specified.\n"
     ]
    }
   ],
   "source": [
    "diabetes = datasets.load_diabetes()\n",
    "X = diabetes.data\n",
    "y = diabetes.target\n",
    "X2 = sm.add_constant(X)\n",
    "est = sm.OLS(y, X2)\n",
    "est2 = est.fit()\n",
    "print(est2.summary())"
   ]
  },
  {
   "cell_type": "markdown",
   "id": "50e18678-bfe7-450e-939a-31a03ab7f39e",
   "metadata": {},
   "source": [
    "***Linearity***\n",
    "- Expected value of the dependent variable is straight-line function of each individual independent variable.\n",
    "- If this is violated, then extrapolating beyond the range of the sample data would give unrelable results\n",
    "- This can be tested if predicted values and residual have pattern then relationship between dependent and independent variable is non linear.\n",
    "- This can be fixed by using polynomial transformation of variables one by one manually or polynomial regression.\n",
    "- If equation is , after polynomial transformation it will become\n",
    "\n",
    "y = (β1 ∗ x1) + (β2 ∗ x2)\n",
    "\n",
    "\n",
    "y = (β1 ∗ x1) + (β2 ∗ x2) + (β3 ∗ x1 ∗ x2) + (β4 ∗ x12) + (β5 ∗ x22)"
   ]
  },
  {
   "cell_type": "code",
   "execution_count": 3,
   "id": "49ffe832-d3c8-4961-b9b0-37af4327d16c",
   "metadata": {},
   "outputs": [
    {
     "data": {
      "image/png": "[encoded data removed]",
      "text/plain": [
       "<Figure size 432x288 with 1 Axes>"
      ]
     },
     "metadata": {
      "needs_background": "light"
     },
     "output_type": "display_data"
    }
   ],
   "source": [
    "#step 1) calculate residual\n",
    "residuals = y-est2.fittedvalues\n",
    "#step 2) plot standardized residual vs actual\n",
    "plt.scatter(st.zscore(residuals),st.zscore(y))\n",
    "plt.xlabel('standardized residual')\n",
    "plt.ylabel('standardized predicted')\n",
    "plt.show()"
   ]
  },
  {
   "cell_type": "markdown",
   "id": "044434af-7782-42cc-87be-208871166397",
   "metadata": {},
   "source": [
    "- It looks like there is relationship between predicated values and residual.\n",
    "- Theoritically speaking, model should predict values higher than actual and lower than actual with equal probability.\n",
    "- We need to plot dependent vs independent variable to identify polynomial relationships and add the terms in the model."
   ]
  },
  {
   "cell_type": "markdown",
   "id": "131a020d-accc-47cc-b92e-cf3a004f490f",
   "metadata": {},
   "source": [
    "***Normality***\n",
    "\n",
    "- Residuals should be normally distributed.\n",
    "- f it is violated, it causes problems with calculating confidence intervals and various significance tests for coefficients.\n",
    "- Q-Q plot and Shapiro-Wilk test can help find if it is met or violated. Q-Q plot compares the quantiles of a data distribution with the quantiles of a standardized theoretical distribution. Majority of the middle part of the line should fall on a line.\n",
    "- It can be fixed by outlier treatment and nonlinear transformation such as log"
   ]
  },
  {
   "cell_type": "code",
   "execution_count": 5,
   "id": "1c402f0d-78e2-4030-967c-9dfb57270607",
   "metadata": {},
   "outputs": [
    {
     "name": "stdout",
     "output_type": "stream",
     "text": [
      "Null hypothesis rejected. Residuals are normally distributed\n"
     ]
    },
    {
     "name": "stderr",
     "output_type": "stream",
     "text": [
      "C:\\Users\\luisf\\anaconda3\\lib\\site-packages\\statsmodels\\graphics\\gofplots.py:993: UserWarning: marker is redundantly defined by the 'marker' keyword argument and the fmt string \"bo\" (-> marker='o'). The keyword argument will take precedence.\n",
      "  ax.plot(x, y, fmt, **plot_style)\n"
     ]
    },
    {
     "data": {
      "image/png": "[encoded data removed]",
      "text/plain": [
       "<Figure size 432x288 with 1 Axes>"
      ]
     },
     "metadata": {
      "needs_background": "light"
     },
     "output_type": "display_data"
    }
   ],
   "source": [
    "#normality through QQ plot\n",
    "fig4=sm.qqplot(residuals, line='r')\n",
    "#perform Shapiro-Wilk test\n",
    "_,p=st.shapiro(residuals)\n",
    "if p>0.05:\n",
    "    print('Null hypothesis rejected. Residuals are normally distributed')"
   ]
  },
  {
   "cell_type": "markdown",
   "id": "84e96942-1418-499e-87ab-b24bf516ccef",
   "metadata": {},
   "source": [
    "***Multicollinearity***\n",
    "\n",
    "- All independent variables are independent of each other and have no correlation amongst each other.\n",
    "- If it is violated, coefficient estimates will be unstable and can cause the coefficients to switch signs.\n",
    "- It can be fixed by either 1) removing variables with VIF larger than 10 Or 2) by doing PCA\n",
    "\n"
   ]
  },
  {
   "cell_type": "code",
   "execution_count": 6,
   "id": "a7bb1bae-9285-4e36-8f67-9ec1ed562f31",
   "metadata": {},
   "outputs": [
    {
     "data": {
      "text/plain": [
       "[0.9999999999999998,\n",
       " 1.2173065764321338,\n",
       " 1.278072545982699,\n",
       " 1.5094458375317008,\n",
       " 1.4594285821794584,\n",
       " 59.20378568651294,\n",
       " 39.19437938862489,\n",
       " 15.402352175616604,\n",
       " 8.890986224976269,\n",
       " 10.076221589049265,\n",
       " 1.4846225872940024]"
      ]
     },
     "execution_count": 6,
     "metadata": {},
     "output_type": "execute_result"
    }
   ],
   "source": [
    "variables = est2.model.exog\n",
    "vif = [variance_inflation_factor(variables, i) for i in range(variables.shape[1])]\n",
    "vif"
   ]
  },
  {
   "cell_type": "markdown",
   "id": "a2302fc2-2dd8-4762-9896-7d4e812dcaf9",
   "metadata": {},
   "source": [
    "***Heteroskedasticity***\n",
    "\n",
    "- Error term should have equal variance across different observations. In the case of heteroskedasticity this is violated.\n",
    "- Heteroskedasticity leads to wrong standard errors of the coefficients, which results in wrong t-statistic and p-values\n",
    "- It can be identified if residual vs fitted values has specific pattern, it means has non-constant variance in such case, we can use variance stabilizing transformation, such as log and sqrt. We can also solve this through quantile regression\n",
    "\n",
    "\n",
    "\n"
   ]
  },
  {
   "cell_type": "code",
   "execution_count": 7,
   "id": "fe30d0c2-0991-43b7-9d06-ef5f455fad55",
   "metadata": {},
   "outputs": [
    {
     "name": "stdout",
     "output_type": "stream",
     "text": [
      "It clearly shows that heteroskedasticity assumptions are violated\n"
     ]
    },
    {
     "data": {
      "image/png": "[encoded data removed]",
      "text/plain": [
       "<Figure size 432x288 with 1 Axes>"
      ]
     },
     "metadata": {
      "needs_background": "light"
     },
     "output_type": "display_data"
    }
   ],
   "source": [
    "plt.scatter(residuals,est2.fittedvalues)\n",
    "plt.xlabel('residual')\n",
    "plt.ylabel('predicted')\n",
    "print('It clearly shows that heteroskedasticity assumptions are violated')"
   ]
  },
  {
   "cell_type": "markdown",
   "id": "21a05cbb-5d4e-450e-a7e3-c95f669b7f3f",
   "metadata": {},
   "source": [
    "***Autocorrelation***\n",
    "\n",
    "- If errors are correlated and not independent, its said to have auto-correlation. In other words, error of instance bears an impact from\n",
    "- If residual has autocorrelation, then we might get coefficient for certain variables as significant, whereas these are actually non significant. In addition F test and R square will be unreliable\n",
    "- It happens mostly with time series data.\n",
    "- It can be tested by durbin-watson test. If it is between 1.5 to 2.5, its good. less tahn 1.5 is negative autocorrelation, more than 2.5 is positive autocorrelation. Although 2 is considered as ideal value.\n",
    "- It can be fixed by adding a lag variable. and seasonality related dummy varriables.\n",
    "\n",
    "\n",
    "\n",
    "\n"
   ]
  },
  {
   "cell_type": "code",
   "execution_count": 8,
   "id": "c451fc73-77ca-41c5-be6f-f1de460a4b27",
   "metadata": {},
   "outputs": [
    {
     "data": {
      "text/plain": [
       "2.028541875253513"
      ]
     },
     "execution_count": 8,
     "metadata": {},
     "output_type": "execute_result"
    }
   ],
   "source": [
    "durbin_watson(residuals)"
   ]
  }
 ],
 "metadata": {
  "kernelspec": {
   "display_name": "Python 3 (ipykernel)",
   "language": "python",
   "name": "python3"
  },
  "language_info": {
   "codemirror_mode": {
    "name": "ipython",
    "version": 3
   },
   "file_extension": ".py",
   "mimetype": "text/x-python",
   "name": "python",
   "nbconvert_exporter": "python",
   "pygments_lexer": "ipython3",
   "version": "3.9.7"
  }
 },
 "nbformat": 4,
 "nbformat_minor": 5
}
