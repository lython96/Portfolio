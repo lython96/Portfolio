{
 "cells": [
  {
   "cell_type": "markdown",
   "id": "21debbcd-4cbe-4adc-b4d1-27d4a1ceda76",
   "metadata": {},
   "source": [
    "# Sentiment analysis using Web Scrapping"
   ]
  },
  {
   "cell_type": "markdown",
   "id": "4e041d8a-fd71-4c8a-b63d-3dc2881e5a08",
   "metadata": {},
   "source": [
    "### Libraries: "
   ]
  },
  {
   "cell_type": "code",
   "execution_count": 1,
   "id": "1b09617c-3396-4ab3-9765-5fdc68b46478",
   "metadata": {},
   "outputs": [],
   "source": [
    "# pip install snscrape"
   ]
  },
  {
   "cell_type": "code",
   "execution_count": 2,
   "id": "fa0179f1-51d4-448b-8a94-78d66489cca9",
   "metadata": {},
   "outputs": [],
   "source": [
    "import snscrape.modules.twitter as snstwitter\n",
    "import matplotlib.pyplot as plt\n",
    "import seaborn as sns\n",
    "import numpy as np\n",
    "import pandas as pd"
   ]
  },
  {
   "cell_type": "markdown",
   "id": "caaacbe4-894c-4ce7-8e98-f05a2eacf68e",
   "metadata": {},
   "source": [
    "### Dataset creation"
   ]
  },
  {
   "cell_type": "code",
   "execution_count": 3,
   "id": "fd9a49d5-cf3d-472d-af5e-317641dea4b2",
   "metadata": {},
   "outputs": [],
   "source": [
    "### I will look for Loewe information in Twitter\n",
    "query = 'Loewe lang:en until:2023-02-21 since:2023-01-01'\n",
    "tweets =[]\n",
    "limit = 10000"
   ]
  },
  {
   "cell_type": "code",
   "execution_count": 4,
   "id": "a32ca85d-eb1b-4c57-a5bc-c92c563283ca",
   "metadata": {},
   "outputs": [
    {
     "name": "stderr",
     "output_type": "stream",
     "text": [
      "C:\\Users\\luisf\\AppData\\Local\\Temp/ipykernel_20312/3622701087.py:7: FutureWarning: username is deprecated, use user.username instead\n",
      "  tweets.append([tweet.date,tweet.username,tweet.content])\n",
      "C:\\Users\\luisf\\AppData\\Local\\Temp/ipykernel_20312/3622701087.py:7: FutureWarning: content is deprecated, use rawContent instead\n",
      "  tweets.append([tweet.date,tweet.username,tweet.content])\n"
     ]
    },
    {
     "name": "stdout",
     "output_type": "stream",
     "text": [
      "                          Date             User  \\\n",
      "0    2023-02-20 23:47:08+00:00          GgV0gue   \n",
      "1    2023-02-20 23:44:38+00:00        drewloewe   \n",
      "2    2023-02-20 23:43:08+00:00     isthatscully   \n",
      "3    2023-02-20 23:41:31+00:00        drewloewe   \n",
      "4    2023-02-20 23:33:56+00:00     nadia_gilani   \n",
      "...                        ...              ...   \n",
      "9995 2023-01-09 16:01:17+00:00        SAlertPro   \n",
      "9996 2023-01-09 15:46:05+00:00        SAlertPro   \n",
      "9997 2023-01-09 15:42:13+00:00  ShoppingAlertUK   \n",
      "9998 2023-01-09 15:27:12+00:00  ShoppingAlertUK   \n",
      "9999 2023-01-09 15:16:09+00:00    AngoisseNCTRN   \n",
      "\n",
      "                                                Content  \n",
      "0     @dad_in_plaid_ @dopeypolitics @MediumSizeMeech...  \n",
      "1     @davideelder A more interesting question is \"S...  \n",
      "2     @RowBlack_ they literally domestic abuse each ...  \n",
      "3     @davideelder @CaddieNetwork Indeed. That's why...  \n",
      "4     walking around correctly people who mispronoun...  \n",
      "...                                                 ...  \n",
      "9995  LOEWE Shoulder Bag Leather Pouch 3Set Brown Au...  \n",
      "9996  Loewe SHW Puzzle ２Way Shoulder Hand Bag Calfsk...  \n",
      "9997  LOEWE Handbag Brown leather Women\\nhttps://t.c...  \n",
      "9998  LOEWE Hammock Paula Zuibiza Size Mini Leather/...  \n",
      "9999  I would like to see Adrian Appiolaza at the he...  \n",
      "\n",
      "[10000 rows x 3 columns]\n"
     ]
    }
   ],
   "source": [
    "for tweet in snstwitter.TwitterSearchScraper(query).get_items():\n",
    "    # print(vars(tweet))\n",
    "    # break\n",
    "    if len(tweets) == limit:\n",
    "        break\n",
    "    else:\n",
    "        tweets.append([tweet.date,tweet.username,tweet.content])\n",
    "df = pd.DataFrame(tweets,columns = ['Date','User','Content'])\n",
    "print (df)"
   ]
  },
  {
   "cell_type": "markdown",
   "id": "38f91405-2e85-43f8-9dcc-2396b95fa52a",
   "metadata": {},
   "source": [
    "### Bag Analysis:"
   ]
  },
  {
   "cell_type": "code",
   "execution_count": 5,
   "id": "e321d841-d953-4848-895f-fdcef1e6bbce",
   "metadata": {},
   "outputs": [],
   "source": [
    "bags = df[df['Content'].str.contains ('bag',regex  = False, case = False)]"
   ]
  },
  {
   "cell_type": "code",
   "execution_count": 6,
   "id": "b16e986c-23eb-4aa4-bd49-47c824f9d251",
   "metadata": {},
   "outputs": [],
   "source": [
    "top_users = bags['User'].value_counts().head(10).reset_index()"
   ]
  },
  {
   "cell_type": "code",
   "execution_count": 24,
   "id": "94ad090b-36d7-4492-bb63-49c352c9e6ae",
   "metadata": {},
   "outputs": [
    {
     "data": {
      "text/html": [
       "<div>\n",
       "<style scoped>\n",
       "    .dataframe tbody tr th:only-of-type {\n",
       "        vertical-align: middle;\n",
       "    }\n",
       "\n",
       "    .dataframe tbody tr th {\n",
       "        vertical-align: top;\n",
       "    }\n",
       "\n",
       "    .dataframe thead th {\n",
       "        text-align: right;\n",
       "    }\n",
       "</style>\n",
       "<table border=\"1\" class=\"dataframe\">\n",
       "  <thead>\n",
       "    <tr style=\"text-align: right;\">\n",
       "      <th></th>\n",
       "      <th>User profile</th>\n",
       "      <th>Count</th>\n",
       "    </tr>\n",
       "  </thead>\n",
       "  <tbody>\n",
       "    <tr>\n",
       "      <th>0</th>\n",
       "      <td>SAlertPro</td>\n",
       "      <td>273</td>\n",
       "    </tr>\n",
       "    <tr>\n",
       "      <th>1</th>\n",
       "      <td>SAlertUSA</td>\n",
       "      <td>240</td>\n",
       "    </tr>\n",
       "    <tr>\n",
       "      <th>2</th>\n",
       "      <td>ShoppingAlertUK</td>\n",
       "      <td>172</td>\n",
       "    </tr>\n",
       "    <tr>\n",
       "      <th>3</th>\n",
       "      <td>ShoppingAlertCA</td>\n",
       "      <td>160</td>\n",
       "    </tr>\n",
       "    <tr>\n",
       "      <th>4</th>\n",
       "      <td>SABeautyStyle</td>\n",
       "      <td>136</td>\n",
       "    </tr>\n",
       "    <tr>\n",
       "      <th>5</th>\n",
       "      <td>HandbagsBags</td>\n",
       "      <td>12</td>\n",
       "    </tr>\n",
       "    <tr>\n",
       "      <th>6</th>\n",
       "      <td>WomenClothesSh1</td>\n",
       "      <td>7</td>\n",
       "    </tr>\n",
       "    <tr>\n",
       "      <th>7</th>\n",
       "      <td>LoeweOfficial</td>\n",
       "      <td>6</td>\n",
       "    </tr>\n",
       "    <tr>\n",
       "      <th>8</th>\n",
       "      <td>ClothesShoesAc2</td>\n",
       "      <td>5</td>\n",
       "    </tr>\n",
       "    <tr>\n",
       "      <th>9</th>\n",
       "      <td>A_TO_Z_SHOPPING</td>\n",
       "      <td>4</td>\n",
       "    </tr>\n",
       "  </tbody>\n",
       "</table>\n",
       "</div>"
      ],
      "text/plain": [
       "      User profile  Count\n",
       "0        SAlertPro    273\n",
       "1        SAlertUSA    240\n",
       "2  ShoppingAlertUK    172\n",
       "3  ShoppingAlertCA    160\n",
       "4    SABeautyStyle    136\n",
       "5     HandbagsBags     12\n",
       "6  WomenClothesSh1      7\n",
       "7    LoeweOfficial      6\n",
       "8  ClothesShoesAc2      5\n",
       "9  A_TO_Z_SHOPPING      4"
      ]
     },
     "execution_count": 24,
     "metadata": {},
     "output_type": "execute_result"
    }
   ],
   "source": [
    "# Top users with higher number of tweets about bags: \n",
    "top_users"
   ]
  },
  {
   "cell_type": "code",
   "execution_count": 8,
   "id": "6124a5b1-cb27-48b7-853d-1e72bc308b59",
   "metadata": {},
   "outputs": [],
   "source": [
    "top_users = top_users.rename({'index':'User profile','User':'Count'},axis = 'columns')"
   ]
  },
  {
   "cell_type": "code",
   "execution_count": 9,
   "id": "26794984-2174-4b5c-9244-519a693e8b7c",
   "metadata": {},
   "outputs": [
    {
     "data": {
      "text/plain": [
       "<function matplotlib.pyplot.show(close=None, block=None)>"
      ]
     },
     "execution_count": 9,
     "metadata": {},
     "output_type": "execute_result"
    },
    {
     "data": {
      "image/png": "[encoded data removed]",
      "text/plain": [
       "<Figure size 1800x720 with 1 Axes>"
      ]
     },
     "metadata": {
      "needs_background": "light"
     },
     "output_type": "display_data"
    }
   ],
   "source": [
    "plt.figure(figsize = (25,10))\n",
    "sns.barplot(x='User profile',y = 'Count',data = top_users,palette = 'Blues_d')\n",
    "plt.title(\"Count of Users\")\n",
    "plt.xlabel(\"Users\")\n",
    "plt.ylabel(\"Count\")\n",
    "plt.show"
   ]
  },
  {
   "cell_type": "markdown",
   "id": "a183fa63-a9b4-41a3-bee5-dbe8e4cd1fa1",
   "metadata": {},
   "source": [
    "#### Sentiment Analysis:"
   ]
  },
  {
   "cell_type": "markdown",
   "id": "e9aace93-75f4-4695-8755-8ba2104bbfbc",
   "metadata": {},
   "source": [
    "1. Using Vader from NLTK. For \"Puzzle\" or \"Puzzle Bag\""
   ]
  },
  {
   "cell_type": "code",
   "execution_count": 10,
   "id": "9c29cae2-3e6a-4e44-8a82-911ebf6206cc",
   "metadata": {},
   "outputs": [],
   "source": [
    "top_phrases = bags['Content'].value_counts().reset_index()"
   ]
  },
  {
   "cell_type": "code",
   "execution_count": 11,
   "id": "6b411bb0-0f24-4dee-863b-ebe00e67cecb",
   "metadata": {},
   "outputs": [],
   "source": [
    "top_phrases = top_phrases.rename({'index':'Phrase','Content':'Count'},axis = 'columns')"
   ]
  },
  {
   "cell_type": "code",
   "execution_count": 12,
   "id": "4e45b729-26f1-48c2-9c62-16b4c6478485",
   "metadata": {},
   "outputs": [],
   "source": [
    "cond = top_phrases['Phrase'].str.contains('puzzle')\n",
    "puzzle_bags = top_phrases[cond]"
   ]
  },
  {
   "cell_type": "code",
   "execution_count": 13,
   "id": "d69140e5-8253-452a-a593-dd0912a6215c",
   "metadata": {},
   "outputs": [],
   "source": [
    "import nltk"
   ]
  },
  {
   "cell_type": "code",
   "execution_count": 14,
   "id": "0bce2648-633b-45d0-af7c-cc32e30e570a",
   "metadata": {},
   "outputs": [],
   "source": [
    "from nltk.sentiment.vader import SentimentIntensityAnalyzer"
   ]
  },
  {
   "cell_type": "code",
   "execution_count": 15,
   "id": "3f52625b-46b0-4eb6-b90c-b5970268a7ea",
   "metadata": {},
   "outputs": [],
   "source": [
    "sentences = puzzle_bags['Phrase'].tolist()"
   ]
  },
  {
   "cell_type": "code",
   "execution_count": 16,
   "id": "a35b1647-8d2c-4220-99ca-605e801e9422",
   "metadata": {},
   "outputs": [],
   "source": [
    "sentences = str(sentences)"
   ]
  },
  {
   "cell_type": "code",
   "execution_count": 17,
   "id": "0045e2b2-a631-47d6-ae58-003733b2f484",
   "metadata": {},
   "outputs": [],
   "source": [
    "tokens = nltk.word_tokenize(sentences)\n",
    "tagged = nltk.pos_tag(tokens)"
   ]
  },
  {
   "cell_type": "code",
   "execution_count": 18,
   "id": "1dc3395a-07fc-4077-9b79-1c67d2cef96a",
   "metadata": {},
   "outputs": [],
   "source": [
    "sid = SentimentIntensityAnalyzer()\n",
    "resultados = sid.polarity_scores(sentences)"
   ]
  },
  {
   "cell_type": "code",
   "execution_count": 19,
   "id": "7c69c556-569d-4713-9840-d11459f51b41",
   "metadata": {},
   "outputs": [
    {
     "data": {
      "text/plain": [
       "{'neg': 0.05, 'neu': 0.847, 'pos': 0.102, 'compound': 0.996}"
      ]
     },
     "execution_count": 19,
     "metadata": {},
     "output_type": "execute_result"
    }
   ],
   "source": [
    "resultados\n",
    "# neg = negative\n",
    "# neu = neutral\n",
    "# pos = positive\n",
    "# compound = score at the end of the message, values from -1 to 1"
   ]
  },
  {
   "cell_type": "markdown",
   "id": "86fb9652-673f-4b0f-b259-7e5c01f89991",
   "metadata": {},
   "source": [
    "2. Using Vader from NLTK. From the word \"Amazona Bag\""
   ]
  },
  {
   "cell_type": "code",
   "execution_count": 20,
   "id": "b84e58ec-2b51-4a97-92b0-3a08aaaa73bf",
   "metadata": {},
   "outputs": [],
   "source": [
    "top_phrases = bags['Content'].value_counts().reset_index()\n",
    "top_phrases = top_phrases.rename({'index':'Phrase','Content':'Count'},axis = 'columns')\n",
    "cond = top_phrases['Phrase'].str.contains('Amazona')\n",
    "puzzle_bags = top_phrases[cond]"
   ]
  },
  {
   "cell_type": "code",
   "execution_count": 21,
   "id": "1fc25500-6732-46bc-b123-ae61b359c024",
   "metadata": {},
   "outputs": [],
   "source": [
    "# Phrases:\n",
    "sentences = puzzle_bags['Phrase'].tolist()\n",
    "sentences = str(sentences)\n",
    "\n",
    "#Tokens:\n",
    "tokens = nltk.word_tokenize(sentences)\n",
    "tagged = nltk.pos_tag(tokens)\n",
    "\n",
    "# Analyser: \n",
    "sid = SentimentIntensityAnalyzer()\n",
    "results = sid.polarity_scores(sentences)"
   ]
  },
  {
   "cell_type": "code",
   "execution_count": 22,
   "id": "4c077784-2f97-4e70-bd20-a5d57f0d3627",
   "metadata": {},
   "outputs": [
    {
     "data": {
      "text/plain": [
       "{'neg': 0.001, 'neu': 0.935, 'pos': 0.064, 'compound': 0.998}"
      ]
     },
     "execution_count": 22,
     "metadata": {},
     "output_type": "execute_result"
    }
   ],
   "source": [
    "results"
   ]
  },
  {
   "cell_type": "code",
   "execution_count": 23,
   "id": "7bcfef72-8af3-45b5-8998-75d671fb549f",
   "metadata": {},
   "outputs": [
    {
     "data": {
      "text/html": [
       "<div>\n",
       "<style scoped>\n",
       "    .dataframe tbody tr th:only-of-type {\n",
       "        vertical-align: middle;\n",
       "    }\n",
       "\n",
       "    .dataframe tbody tr th {\n",
       "        vertical-align: top;\n",
       "    }\n",
       "\n",
       "    .dataframe thead th {\n",
       "        text-align: right;\n",
       "    }\n",
       "</style>\n",
       "<table border=\"1\" class=\"dataframe\">\n",
       "  <thead>\n",
       "    <tr style=\"text-align: right;\">\n",
       "      <th></th>\n",
       "      <th>Phrase</th>\n",
       "      <th>Count</th>\n",
       "    </tr>\n",
       "  </thead>\n",
       "  <tbody>\n",
       "    <tr>\n",
       "      <th>0</th>\n",
       "      <td>@ohmybeautybank loewe puzzle bag</td>\n",
       "      <td>2</td>\n",
       "    </tr>\n",
       "    <tr>\n",
       "      <th>1</th>\n",
       "      <td>Loewe Menswear Sale @ MR PORTER US, Puzzle bag...</td>\n",
       "      <td>2</td>\n",
       "    </tr>\n",
       "    <tr>\n",
       "      <th>2</th>\n",
       "      <td>loewe coat and rimowa clutchbag\\n\\n(loewe's sc...</td>\n",
       "      <td>1</td>\n",
       "    </tr>\n",
       "    <tr>\n",
       "      <th>3</th>\n",
       "      <td>Loewe is doing a Howl’s Moving Castle collab a...</td>\n",
       "      <td>1</td>\n",
       "    </tr>\n",
       "    <tr>\n",
       "      <th>4</th>\n",
       "      <td>Auth LOEWE - Navy Leather Business Bag\\nhttps:...</td>\n",
       "      <td>1</td>\n",
       "    </tr>\n",
       "    <tr>\n",
       "      <th>...</th>\n",
       "      <td>...</td>\n",
       "      <td>...</td>\n",
       "    </tr>\n",
       "    <tr>\n",
       "      <th>1458</th>\n",
       "      <td>@navusare It’s a collaboration with some kind ...</td>\n",
       "      <td>1</td>\n",
       "    </tr>\n",
       "    <tr>\n",
       "      <th>1459</th>\n",
       "      <td>@LoeweOfficial U gave this bag to Taeyong nct....</td>\n",
       "      <td>1</td>\n",
       "    </tr>\n",
       "    <tr>\n",
       "      <th>1460</th>\n",
       "      <td>@entomorphia Yeah!! I think semi-casual would ...</td>\n",
       "      <td>1</td>\n",
       "    </tr>\n",
       "    <tr>\n",
       "      <th>1461</th>\n",
       "      <td>Soo is puffy padded bags and stuff the new tre...</td>\n",
       "      <td>1</td>\n",
       "    </tr>\n",
       "    <tr>\n",
       "      <th>1462</th>\n",
       "      <td>LOEWE Handbag Brown leather Women\\nhttps://t.c...</td>\n",
       "      <td>1</td>\n",
       "    </tr>\n",
       "  </tbody>\n",
       "</table>\n",
       "<p>1463 rows × 2 columns</p>\n",
       "</div>"
      ],
      "text/plain": [
       "                                                 Phrase  Count\n",
       "0                      @ohmybeautybank loewe puzzle bag      2\n",
       "1     Loewe Menswear Sale @ MR PORTER US, Puzzle bag...      2\n",
       "2     loewe coat and rimowa clutchbag\\n\\n(loewe's sc...      1\n",
       "3     Loewe is doing a Howl’s Moving Castle collab a...      1\n",
       "4     Auth LOEWE - Navy Leather Business Bag\\nhttps:...      1\n",
       "...                                                 ...    ...\n",
       "1458  @navusare It’s a collaboration with some kind ...      1\n",
       "1459  @LoeweOfficial U gave this bag to Taeyong nct....      1\n",
       "1460  @entomorphia Yeah!! I think semi-casual would ...      1\n",
       "1461  Soo is puffy padded bags and stuff the new tre...      1\n",
       "1462  LOEWE Handbag Brown leather Women\\nhttps://t.c...      1\n",
       "\n",
       "[1463 rows x 2 columns]"
      ]
     },
     "execution_count": 23,
     "metadata": {},
     "output_type": "execute_result"
    }
   ],
   "source": [
    "top_phrases"
   ]
  },
  {
   "cell_type": "markdown",
   "id": "479470ea-e0ea-4b72-8d9d-c9a1e7e6270a",
   "metadata": {},
   "source": [
    "### New collection analysis:"
   ]
  },
  {
   "cell_type": "code",
   "execution_count": 31,
   "id": "42f6499d-9032-489a-95b6-91f55c0a947a",
   "metadata": {},
   "outputs": [
    {
     "data": {
      "text/html": [
       "<div>\n",
       "<style scoped>\n",
       "    .dataframe tbody tr th:only-of-type {\n",
       "        vertical-align: middle;\n",
       "    }\n",
       "\n",
       "    .dataframe tbody tr th {\n",
       "        vertical-align: top;\n",
       "    }\n",
       "\n",
       "    .dataframe thead th {\n",
       "        text-align: right;\n",
       "    }\n",
       "</style>\n",
       "<table border=\"1\" class=\"dataframe\">\n",
       "  <thead>\n",
       "    <tr style=\"text-align: right;\">\n",
       "      <th></th>\n",
       "      <th>Date</th>\n",
       "      <th>User</th>\n",
       "      <th>Content</th>\n",
       "      <th>day</th>\n",
       "    </tr>\n",
       "  </thead>\n",
       "  <tbody>\n",
       "    <tr>\n",
       "      <th>130</th>\n",
       "      <td>2023-02-20 14:39:20+00:00</td>\n",
       "      <td>CannyFood</td>\n",
       "      <td>Do I flog my Loewe/Howl’s freebies on eBay lik...</td>\n",
       "      <td>20</td>\n",
       "    </tr>\n",
       "    <tr>\n",
       "      <th>153</th>\n",
       "      <td>2023-02-20 11:19:44+00:00</td>\n",
       "      <td>AnyaImane</td>\n",
       "      <td>Half of the loewe x Howl’s moving castle colle...</td>\n",
       "      <td>20</td>\n",
       "    </tr>\n",
       "    <tr>\n",
       "      <th>164</th>\n",
       "      <td>2023-02-20 10:40:28+00:00</td>\n",
       "      <td>NMIXXLlLY</td>\n",
       "      <td>Verily, fashion never disappoints me. Enormous...</td>\n",
       "      <td>20</td>\n",
       "    </tr>\n",
       "    <tr>\n",
       "      <th>190</th>\n",
       "      <td>2023-02-20 07:51:08+00:00</td>\n",
       "      <td>y0urjAgiy4</td>\n",
       "      <td>If someone ever bought me the Loewe Howl’s Mov...</td>\n",
       "      <td>20</td>\n",
       "    </tr>\n",
       "    <tr>\n",
       "      <th>299</th>\n",
       "      <td>2023-02-19 22:31:33+00:00</td>\n",
       "      <td>thesoftestaura</td>\n",
       "      <td>loewe x howl’s moving castle, 2023 https://t.c...</td>\n",
       "      <td>19</td>\n",
       "    </tr>\n",
       "  </tbody>\n",
       "</table>\n",
       "</div>"
      ],
      "text/plain": [
       "                         Date            User  \\\n",
       "130 2023-02-20 14:39:20+00:00       CannyFood   \n",
       "153 2023-02-20 11:19:44+00:00       AnyaImane   \n",
       "164 2023-02-20 10:40:28+00:00       NMIXXLlLY   \n",
       "190 2023-02-20 07:51:08+00:00      y0urjAgiy4   \n",
       "299 2023-02-19 22:31:33+00:00  thesoftestaura   \n",
       "\n",
       "                                               Content  day  \n",
       "130  Do I flog my Loewe/Howl’s freebies on eBay lik...   20  \n",
       "153  Half of the loewe x Howl’s moving castle colle...   20  \n",
       "164  Verily, fashion never disappoints me. Enormous...   20  \n",
       "190  If someone ever bought me the Loewe Howl’s Mov...   20  \n",
       "299  loewe x howl’s moving castle, 2023 https://t.c...   19  "
      ]
     },
     "execution_count": 31,
     "metadata": {},
     "output_type": "execute_result"
    }
   ],
   "source": [
    "new_colection = df[df['Content'].str.contains ('Howl’s',regex  = False, case = False)]\n",
    "new_colection.head()"
   ]
  },
  {
   "cell_type": "code",
   "execution_count": 65,
   "id": "97e578c5-11a7-4cae-a4ef-d74c58b929a4",
   "metadata": {},
   "outputs": [
    {
     "name": "stderr",
     "output_type": "stream",
     "text": [
      "C:\\Users\\luisf\\AppData\\Local\\Temp/ipykernel_20312/2045827373.py:2: SettingWithCopyWarning: \n",
      "A value is trying to be set on a copy of a slice from a DataFrame.\n",
      "Try using .loc[row_indexer,col_indexer] = value instead\n",
      "\n",
      "See the caveats in the documentation: https://pandas.pydata.org/pandas-docs/stable/user_guide/indexing.html#returning-a-view-versus-a-copy\n",
      "  new_colection['Date'] = pd.to_datetime(new_colection['Date'],format = '%Y-%m-%d')\n",
      "C:\\Users\\luisf\\AppData\\Local\\Temp/ipykernel_20312/2045827373.py:3: SettingWithCopyWarning: \n",
      "A value is trying to be set on a copy of a slice from a DataFrame.\n",
      "Try using .loc[row_indexer,col_indexer] = value instead\n",
      "\n",
      "See the caveats in the documentation: https://pandas.pydata.org/pandas-docs/stable/user_guide/indexing.html#returning-a-view-versus-a-copy\n",
      "  new_colection['day']=new_colection['Date'].dt.day\n",
      "C:\\Users\\luisf\\AppData\\Local\\Temp/ipykernel_20312/2045827373.py:4: SettingWithCopyWarning: \n",
      "A value is trying to be set on a copy of a slice from a DataFrame.\n",
      "Try using .loc[row_indexer,col_indexer] = value instead\n",
      "\n",
      "See the caveats in the documentation: https://pandas.pydata.org/pandas-docs/stable/user_guide/indexing.html#returning-a-view-versus-a-copy\n",
      "  new_colection['month']=new_colection['Date'].dt.month\n"
     ]
    }
   ],
   "source": [
    "# Time series: \n",
    "new_colection['Date'] = pd.to_datetime(new_colection['Date'],format = '%Y-%m-%d')\n",
    "new_colection['day']=new_colection['Date'].dt.day\n",
    "new_colection['month']=new_colection['Date'].dt.month"
   ]
  },
  {
   "cell_type": "code",
   "execution_count": 83,
   "id": "c9eed4f4-a979-42af-a87b-cf44c66c47de",
   "metadata": {},
   "outputs": [],
   "source": [
    "line = new_colection.groupby(['month','day']).agg({'User':'count'}).sort_values(['month','day']).reset_index()"
   ]
  },
  {
   "cell_type": "code",
   "execution_count": 86,
   "id": "ecc793d8-efcc-45c6-87cf-37541fd39361",
   "metadata": {},
   "outputs": [],
   "source": [
    "line = line.rename({'User':'User count'},axis = 'columns')\n",
    "line.head()\n",
    "jan = line[line.month == 1]\n",
    "feb = line[line.month == 2]"
   ]
  },
  {
   "cell_type": "code",
   "execution_count": 97,
   "id": "de052183-550f-4dfa-abae-93ac07ebc484",
   "metadata": {},
   "outputs": [
    {
     "data": {
      "text/plain": [
       "<function matplotlib.pyplot.show(close=None, block=None)>"
      ]
     },
     "execution_count": 97,
     "metadata": {},
     "output_type": "execute_result"
    },
    {
     "data": {
      "text/plain": [
       "<Figure size 1800x720 with 0 Axes>"
      ]
     },
     "metadata": {},
     "output_type": "display_data"
    },
    {
     "data": {
      "image/png": "[encoded data removed]",
      "text/plain": [
       "<Figure size 864x864 with 2 Axes>"
      ]
     },
     "metadata": {
      "needs_background": "light"
     },
     "output_type": "display_data"
    }
   ],
   "source": [
    "# Trend analysis:\n",
    "\n",
    "plt.figure(figsize = (25,10))\n",
    "fig, (ax1, ax2) = plt.subplots(2, 1, figsize=(12, 12), sharex=True)\n",
    "\n",
    "plt.title(\"Count of Users talking about new colecction during january and february\")\n",
    "# Graph 1:\n",
    "ax1.plot(jan.day, jan['User count'], color='red')\n",
    "ax1.set_ylabel('User count')\n",
    "\n",
    "# Graph 2: \n",
    "ax2.plot(feb.day, feb['User count'], color='blue')\n",
    "ax2.set_ylabel('User count')\n",
    "\n",
    "plt.xlabel('Days')\n",
    "plt.show"
   ]
  },
  {
   "cell_type": "code",
   "execution_count": 27,
   "id": "0ecbf4a5-12ac-4e19-80be-4c80c821d79c",
   "metadata": {},
   "outputs": [
    {
     "data": {
      "text/html": [
       "<div>\n",
       "<style scoped>\n",
       "    .dataframe tbody tr th:only-of-type {\n",
       "        vertical-align: middle;\n",
       "    }\n",
       "\n",
       "    .dataframe tbody tr th {\n",
       "        vertical-align: top;\n",
       "    }\n",
       "\n",
       "    .dataframe thead th {\n",
       "        text-align: right;\n",
       "    }\n",
       "</style>\n",
       "<table border=\"1\" class=\"dataframe\">\n",
       "  <thead>\n",
       "    <tr style=\"text-align: right;\">\n",
       "      <th></th>\n",
       "      <th>User profile</th>\n",
       "      <th>Count</th>\n",
       "    </tr>\n",
       "  </thead>\n",
       "  <tbody>\n",
       "    <tr>\n",
       "      <th>0</th>\n",
       "      <td>NMIXXBRASIL</td>\n",
       "      <td>31</td>\n",
       "    </tr>\n",
       "    <tr>\n",
       "      <th>1</th>\n",
       "      <td>BrasilHaewon</td>\n",
       "      <td>8</td>\n",
       "    </tr>\n",
       "    <tr>\n",
       "      <th>2</th>\n",
       "      <td>NMIXXGLOBAL</td>\n",
       "      <td>8</td>\n",
       "    </tr>\n",
       "    <tr>\n",
       "      <th>3</th>\n",
       "      <td>championistic</td>\n",
       "      <td>8</td>\n",
       "    </tr>\n",
       "    <tr>\n",
       "      <th>4</th>\n",
       "      <td>Gematale</td>\n",
       "      <td>7</td>\n",
       "    </tr>\n",
       "    <tr>\n",
       "      <th>5</th>\n",
       "      <td>nmixxpics_</td>\n",
       "      <td>7</td>\n",
       "    </tr>\n",
       "    <tr>\n",
       "      <th>6</th>\n",
       "      <td>LoeweOfficial</td>\n",
       "      <td>6</td>\n",
       "    </tr>\n",
       "    <tr>\n",
       "      <th>7</th>\n",
       "      <td>heawonr</td>\n",
       "      <td>5</td>\n",
       "    </tr>\n",
       "    <tr>\n",
       "      <th>8</th>\n",
       "      <td>dramapotatoe</td>\n",
       "      <td>5</td>\n",
       "    </tr>\n",
       "    <tr>\n",
       "      <th>9</th>\n",
       "      <td>staricsverse</td>\n",
       "      <td>5</td>\n",
       "    </tr>\n",
       "  </tbody>\n",
       "</table>\n",
       "</div>"
      ],
      "text/plain": [
       "    User profile  Count\n",
       "0    NMIXXBRASIL     31\n",
       "1   BrasilHaewon      8\n",
       "2    NMIXXGLOBAL      8\n",
       "3  championistic      8\n",
       "4       Gematale      7\n",
       "5     nmixxpics_      7\n",
       "6  LoeweOfficial      6\n",
       "7        heawonr      5\n",
       "8   dramapotatoe      5\n",
       "9   staricsverse      5"
      ]
     },
     "execution_count": 27,
     "metadata": {},
     "output_type": "execute_result"
    }
   ],
   "source": [
    "top_users = new_colection['User'].value_counts().head(10).reset_index()\n",
    "top_users = top_users.rename({'index':'User profile','User':'Count'},axis = 'columns')\n",
    "top_users"
   ]
  },
  {
   "cell_type": "code",
   "execution_count": 98,
   "id": "b64acadb-1c44-418b-ac9f-fd127b36a2b4",
   "metadata": {},
   "outputs": [
    {
     "data": {
      "text/plain": [
       "<function matplotlib.pyplot.show(close=None, block=None)>"
      ]
     },
     "execution_count": 98,
     "metadata": {},
     "output_type": "execute_result"
    },
    {
     "data": {
      "image/png": "[encoded data removed]",
      "text/plain": [
       "<Figure size 1800x720 with 1 Axes>"
      ]
     },
     "metadata": {
      "needs_background": "light"
     },
     "output_type": "display_data"
    }
   ],
   "source": [
    "plt.figure(figsize = (25,10))\n",
    "sns.barplot(x='User profile',y = 'Count',data = top_users,palette = 'Blues_d')\n",
    "plt.title(\"Count of Users\")\n",
    "plt.xlabel(\"Users\")\n",
    "plt.ylabel(\"Count\")\n",
    "plt.show"
   ]
  }
 ],
 "metadata": {
  "kernelspec": {
   "display_name": "Python 3 (ipykernel)",
   "language": "python",
   "name": "python3"
  },
  "language_info": {
   "codemirror_mode": {
    "name": "ipython",
    "version": 3
   },
   "file_extension": ".py",
   "mimetype": "text/x-python",
   "name": "python",
   "nbconvert_exporter": "python",
   "pygments_lexer": "ipython3",
   "version": "3.9.7"
  }
 },
 "nbformat": 4,
 "nbformat_minor": 5
}
